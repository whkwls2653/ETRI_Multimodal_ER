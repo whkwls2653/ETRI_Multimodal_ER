{
  "nbformat": 4,
  "nbformat_minor": 0,
  "metadata": {
    "colab": {
      "provenance": [],
      "gpuType": "T4",
      "authorship_tag": "ABX9TyMcLyprpntyG5bPvk0OlPtv",
      "include_colab_link": true
    },
    "kernelspec": {
      "name": "python3",
      "display_name": "Python 3"
    },
    "language_info": {
      "name": "python"
    },
    "accelerator": "GPU",
    "gpuClass": "standard"
  },
  "cells": [
    {
      "cell_type": "markdown",
      "metadata": {
        "id": "view-in-github",
        "colab_type": "text"
      },
      "source": [
        "<a href=\"https://colab.research.google.com/github/whkwls2653/ETRI_Multimodal_ER/blob/main/%EC%BD%94%EB%9E%A9%EC%98%88%EC%8B%9C%20%EB%B0%8F%20%EB%A6%AC%EB%8D%94%EB%B3%B4%EB%93%9C(2%EC%B0%A8%EA%B0%80%EC%82%B0%EC%A0%90).ipynb\" target=\"_parent\"><img src=\"https://colab.research.google.com/assets/colab-badge.svg\" alt=\"Open In Colab\"/></a>"
      ]
    },
    {
      "cell_type": "code",
      "source": [
        "from google.colab import drive\n",
        "drive.mount('/content/gdrive')"
      ],
      "metadata": {
        "colab": {
          "base_uri": "https://localhost:8080/"
        },
        "id": "OmYvmV1bjTN2",
        "outputId": "b028da5f-2727-498c-be19-5aa8fc374f9f"
      },
      "execution_count": 1,
      "outputs": [
        {
          "output_type": "stream",
          "name": "stdout",
          "text": [
            "Mounted at /content/gdrive\n"
          ]
        }
      ]
    },
    {
      "cell_type": "code",
      "source": [
        "%cd /content/gdrive/MyDrive/emotion_recognition/ETRI_Multimodal_ER/"
      ],
      "metadata": {
        "colab": {
          "base_uri": "https://localhost:8080/"
        },
        "id": "W8x9uuAejM17",
        "outputId": "93954eb7-a5b8-4e41-b139-9131928c9777"
      },
      "execution_count": 2,
      "outputs": [
        {
          "output_type": "stream",
          "name": "stdout",
          "text": [
            "/content/gdrive/MyDrive/emotion_recognition/ETRI_Multimodal_ER\n"
          ]
        }
      ]
    },
    {
      "cell_type": "code",
      "source": [
        "!pip install -r requirements.txt"
      ],
      "metadata": {
        "id": "2Owmc6eKnoo-"
      },
      "execution_count": null,
      "outputs": []
    },
    {
      "cell_type": "code",
      "execution_count": null,
      "metadata": {
        "id": "R-ameZQejL-u"
      },
      "outputs": [],
      "source": [
        "!apt-get install p7zip\n",
        "%cd COGMEN_code\n",
        "!7z x kernel.7z.001 -aoa\n",
        "%cd data\n",
        "!7z x kernel.7z.001 -aoa"
      ]
    },
    {
      "cell_type": "code",
      "source": [
        "%cd /content/gdrive/MyDrive/emotion_recognition/ETRI_Multimodal_ER/COGMEN_code\n",
        "!python eval.py --dataset=\"KEMDy19\" --modalities=\"at\" --data_dir='./data/KEMDy19/new_2019cogmen_format_speaker_only_feat_preprocessed.pkl' --pt_dir='./model_checkpoints/KEMDy19_best_dev_f1_model_at_MIRAI_pretrained_speaker_only.pt'"
      ],
      "metadata": {
        "id": "VLsWSvyrpUZF"
      },
      "execution_count": null,
      "outputs": []
    },
    {
      "cell_type": "code",
      "source": [
        "# !pip install -U flask-cors\n",
        "# !pip install Flask==2.0.3\n",
        "# !pip install gnnlens\n",
        "!pip install DGL"
      ],
      "metadata": {
        "id": "i1-v0_yacLgV",
        "outputId": "5b1507c8-732f-4ef7-b682-ce8ebab5f0b1",
        "colab": {
          "base_uri": "https://localhost:8080/"
        }
      },
      "execution_count": 11,
      "outputs": [
        {
          "output_type": "stream",
          "name": "stdout",
          "text": [
            "Looking in indexes: https://pypi.org/simple, https://us-python.pkg.dev/colab-wheels/public/simple/\n",
            "Collecting DGL\n",
            "  Downloading dgl-1.1.0-cp310-cp310-manylinux1_x86_64.whl (5.9 MB)\n",
            "\u001b[2K     \u001b[90m━━━━━━━━━━━━━━━━━━━━━━━━━━━━━━━━━━━━━━━━\u001b[0m \u001b[32m5.9/5.9 MB\u001b[0m \u001b[31m8.5 MB/s\u001b[0m eta \u001b[36m0:00:00\u001b[0m\n",
            "\u001b[?25hRequirement already satisfied: numpy>=1.14.0 in /usr/local/lib/python3.10/dist-packages (from DGL) (1.22.4)\n",
            "Requirement already satisfied: scipy>=1.1.0 in /usr/local/lib/python3.10/dist-packages (from DGL) (1.10.1)\n",
            "Requirement already satisfied: networkx>=2.1 in /usr/local/lib/python3.10/dist-packages (from DGL) (3.1)\n",
            "Requirement already satisfied: requests>=2.19.0 in /usr/local/lib/python3.10/dist-packages (from DGL) (2.27.1)\n",
            "Requirement already satisfied: tqdm in /usr/local/lib/python3.10/dist-packages (from DGL) (4.65.0)\n",
            "Requirement already satisfied: psutil>=5.8.0 in /usr/local/lib/python3.10/dist-packages (from DGL) (5.9.5)\n",
            "Requirement already satisfied: urllib3<1.27,>=1.21.1 in /usr/local/lib/python3.10/dist-packages (from requests>=2.19.0->DGL) (1.26.15)\n",
            "Requirement already satisfied: certifi>=2017.4.17 in /usr/local/lib/python3.10/dist-packages (from requests>=2.19.0->DGL) (2022.12.7)\n",
            "Requirement already satisfied: charset-normalizer~=2.0.0 in /usr/local/lib/python3.10/dist-packages (from requests>=2.19.0->DGL) (2.0.12)\n",
            "Requirement already satisfied: idna<4,>=2.5 in /usr/local/lib/python3.10/dist-packages (from requests>=2.19.0->DGL) (3.4)\n",
            "Installing collected packages: DGL\n",
            "Successfully installed DGL-1.1.0\n"
          ]
        }
      ]
    },
    {
      "cell_type": "code",
      "source": [
        "# !git clone https://github.com/dmlc/GNNLens2.git /content/gdrive/MyDrive/emotion_recognition/GNNLens2\n",
        "%cd /content/gdrive/MyDrive/emotion_recognition/GNNLens2/python\n",
        "\n",
        "!python setup.py install"
      ],
      "metadata": {
        "id": "qsmqbEGjdhTT"
      },
      "execution_count": null,
      "outputs": []
    },
    {
      "cell_type": "code",
      "source": [
        "import gnnlens\n",
        "print(gnnlens.__version__)\n"
      ],
      "metadata": {
        "id": "T9wT0C7heHEz",
        "outputId": "e91df22a-6c3a-4d27-ebbe-4e433e466b23",
        "colab": {
          "base_uri": "https://localhost:8080/"
        }
      },
      "execution_count": 12,
      "outputs": [
        {
          "output_type": "stream",
          "name": "stderr",
          "text": [
            "DGL backend not selected or invalid.  Assuming PyTorch for now.\n"
          ]
        },
        {
          "output_type": "stream",
          "name": "stdout",
          "text": [
            "Setting the default backend to \"pytorch\". You can change it in the ~/.dgl/config.json file or export the DGLBACKEND environment variable.  Valid options are: pytorch, mxnet, tensorflow (all lowercase)\n",
            "0.1.0\n"
          ]
        }
      ]
    },
    {
      "cell_type": "code",
      "source": [
        "\n",
        "\n",
        "from dgl.data import CoraGraphDataset, CiteseerGraphDataset\n",
        "\n",
        "cora_dataset = CoraGraphDataset()\n",
        "cora_graph = cora_dataset[0]\n",
        "citeseer_dataset = CiteseerGraphDataset()\n",
        "citeseer_graph = citeseer_dataset[0]\n",
        "from gnnlens import Writer\n",
        "\n",
        "# Specify the path to create a new directory for dumping data files.\n",
        "writer = Writer('tutorial_graph')\n",
        "writer.add_graph(name='Cora', graph=cora_graph)\n",
        "writer.add_graph(name='Citeseer', graph=citeseer_graph)\n",
        "# Finish dumping\n",
        "writer.close()"
      ],
      "metadata": {
        "id": "GEsC2-s0e0Qb",
        "outputId": "9a598725-5404-4a1a-bbd2-366995de7f7f",
        "colab": {
          "base_uri": "https://localhost:8080/"
        }
      },
      "execution_count": 13,
      "outputs": [
        {
          "output_type": "stream",
          "name": "stdout",
          "text": [
            "Downloading /root/.dgl/cora_v2.zip from https://data.dgl.ai/dataset/cora_v2.zip...\n",
            "Extracting file to /root/.dgl/cora_v2_d697a464\n",
            "Finished data loading and preprocessing.\n",
            "  NumNodes: 2708\n",
            "  NumEdges: 10556\n",
            "  NumFeats: 1433\n",
            "  NumClasses: 7\n",
            "  NumTrainingSamples: 140\n",
            "  NumValidationSamples: 500\n",
            "  NumTestSamples: 1000\n",
            "Done saving data into cached files.\n",
            "Downloading /root/.dgl/citeseer.zip from https://data.dgl.ai/dataset/citeseer.zip...\n",
            "Extracting file to /root/.dgl/citeseer_d6836239\n"
          ]
        },
        {
          "output_type": "stream",
          "name": "stderr",
          "text": [
            "/usr/local/lib/python3.10/dist-packages/dgl/data/citation_graph.py:314: RuntimeWarning: divide by zero encountered in power\n",
            "  r_inv = np.power(rowsum, -1).flatten()\n"
          ]
        },
        {
          "output_type": "stream",
          "name": "stdout",
          "text": [
            "Finished data loading and preprocessing.\n",
            "  NumNodes: 3327\n",
            "  NumEdges: 9228\n",
            "  NumFeats: 3703\n",
            "  NumClasses: 6\n",
            "  NumTrainingSamples: 120\n",
            "  NumValidationSamples: 500\n",
            "  NumTestSamples: 1000\n",
            "Done saving data into cached files.\n"
          ]
        }
      ]
    },
    {
      "cell_type": "code",
      "source": [
        "!gnnlens --logdir tutorial_graph --port 8888"
      ],
      "metadata": {
        "id": "5YuLGUzKe8xB",
        "outputId": "1d7733a6-7e5b-4d71-da86-77ff2b8693f7",
        "colab": {
          "base_uri": "https://localhost:8080/"
        }
      },
      "execution_count": null,
      "outputs": [
        {
          "output_type": "stream",
          "name": "stdout",
          "text": [
            "Server config: {'FRONT_ROOT': '/usr/local/lib/python3.10/dist-packages/gnnlens/./visbuild', 'STATIC_FOLDER': '/usr/local/lib/python3.10/dist-packages/gnnlens/./visbuild/static', 'LOGDIR': 'tutorial_graph'}\n",
            " * Serving Flask app 'gnnlens.server' (lazy loading)\n",
            " * Environment: production\n",
            "\u001b[31m   WARNING: This is a development server. Do not use it in a production deployment.\u001b[0m\n",
            "\u001b[2m   Use a production WSGI server instead.\u001b[0m\n",
            " * Debug mode: off\n",
            "\u001b[31m\u001b[1mWARNING: This is a development server. Do not use it in a production deployment. Use a production WSGI server instead.\u001b[0m\n",
            " * Running on all addresses (0.0.0.0)\n",
            " * Running on http://127.0.0.1:8888\n",
            " * Running on http://172.28.0.12:8888\n",
            "\u001b[33mPress CTRL+C to quit\u001b[0m\n"
          ]
        }
      ]
    },
    {
      "cell_type": "code",
      "source": [
        "from dgl.data import CoraGraphDataset, CiteseerGraphDataset\n",
        "\n",
        "cora_dataset = CoraGraphDataset()\n",
        "cora_graph = cora_dataset[0]\n",
        "citeseer_dataset = CiteseerGraphDataset()\n",
        "citeseer_graph = citeseer_dataset[0]\n",
        "from gnnlens import Writer\n",
        "\n",
        "# Specify the path to create a new directory for dumping data files.\n",
        "writer = Writer('tutorial_graph')\n",
        "writer.add_graph(name='Cora', graph=cora_graph)\n",
        "writer.add_graph(name='Citeseer', graph=citeseer_graph)\n",
        "# Finish dumping\n",
        "writer.close()\n",
        "!gnnlens --logdir tutorial_graph"
      ],
      "metadata": {
        "id": "3lx1QMb7cpFB",
        "outputId": "a617b484-7344-42ce-f15f-225a0b3d7feb",
        "colab": {
          "base_uri": "https://localhost:8080/",
          "height": 391
        }
      },
      "execution_count": 7,
      "outputs": [
        {
          "output_type": "error",
          "ename": "ModuleNotFoundError",
          "evalue": "ignored",
          "traceback": [
            "\u001b[0;31m---------------------------------------------------------------------------\u001b[0m",
            "\u001b[0;31mModuleNotFoundError\u001b[0m                       Traceback (most recent call last)",
            "\u001b[0;32m<ipython-input-7-0891f6cdf4dc>\u001b[0m in \u001b[0;36m<cell line: 1>\u001b[0;34m()\u001b[0m\n\u001b[0;32m----> 1\u001b[0;31m \u001b[0;32mfrom\u001b[0m \u001b[0mdgl\u001b[0m\u001b[0;34m.\u001b[0m\u001b[0mdata\u001b[0m \u001b[0;32mimport\u001b[0m \u001b[0mCoraGraphDataset\u001b[0m\u001b[0;34m,\u001b[0m \u001b[0mCiteseerGraphDataset\u001b[0m\u001b[0;34m\u001b[0m\u001b[0;34m\u001b[0m\u001b[0m\n\u001b[0m\u001b[1;32m      2\u001b[0m \u001b[0;34m\u001b[0m\u001b[0m\n\u001b[1;32m      3\u001b[0m \u001b[0mcora_dataset\u001b[0m \u001b[0;34m=\u001b[0m \u001b[0mCoraGraphDataset\u001b[0m\u001b[0;34m(\u001b[0m\u001b[0;34m)\u001b[0m\u001b[0;34m\u001b[0m\u001b[0;34m\u001b[0m\u001b[0m\n\u001b[1;32m      4\u001b[0m \u001b[0mcora_graph\u001b[0m \u001b[0;34m=\u001b[0m \u001b[0mcora_dataset\u001b[0m\u001b[0;34m[\u001b[0m\u001b[0;36m0\u001b[0m\u001b[0;34m]\u001b[0m\u001b[0;34m\u001b[0m\u001b[0;34m\u001b[0m\u001b[0m\n\u001b[1;32m      5\u001b[0m \u001b[0mciteseer_dataset\u001b[0m \u001b[0;34m=\u001b[0m \u001b[0mCiteseerGraphDataset\u001b[0m\u001b[0;34m(\u001b[0m\u001b[0;34m)\u001b[0m\u001b[0;34m\u001b[0m\u001b[0;34m\u001b[0m\u001b[0m\n",
            "\u001b[0;31mModuleNotFoundError\u001b[0m: No module named 'dgl'",
            "",
            "\u001b[0;31m---------------------------------------------------------------------------\u001b[0;32m\nNOTE: If your import is failing due to a missing package, you can\nmanually install dependencies using either !pip or !apt.\n\nTo view examples of installing some common dependencies, click the\n\"Open Examples\" button below.\n\u001b[0;31m---------------------------------------------------------------------------\u001b[0m\n"
          ],
          "errorDetails": {
            "actions": [
              {
                "action": "open_url",
                "actionText": "Open Examples",
                "url": "/notebooks/snippets/importing_libraries.ipynb"
              }
            ]
          }
        }
      ]
    },
    {
      "cell_type": "code",
      "source": [],
      "metadata": {
        "id": "Vm0k-PNWcBol"
      },
      "execution_count": null,
      "outputs": []
    },
    {
      "cell_type": "code",
      "source": [
        "import pandas as pd\n",
        "gt=pd.read_csv('golds.csv',header=None)\n",
        "print(gt)"
      ],
      "metadata": {
        "colab": {
          "base_uri": "https://localhost:8080/"
        },
        "id": "sCD0w1ETwoJy",
        "outputId": "c2381100-d148-4811-a8ed-997f0f924639"
      },
      "execution_count": null,
      "outputs": [
        {
          "output_type": "stream",
          "name": "stdout",
          "text": [
            "   0    1    2    3    4    5    6    7    8    9    ...  968  969  970  971  \\\n",
            "0    0    0    0    0    0    0    3    0    3    1  ...    1    1    1    4   \n",
            "\n",
            "   972  973  974  975  976  977  \n",
            "0    4    4    1    4    4    2  \n",
            "\n",
            "[1 rows x 978 columns]\n"
          ]
        }
      ]
    },
    {
      "cell_type": "code",
      "source": [
        "!python score_script.py './golds.csv' './preds.csv'"
      ],
      "metadata": {
        "colab": {
          "base_uri": "https://localhost:8080/"
        },
        "id": "ksEx6ohOtMQm",
        "outputId": "cae74901-5346-4b3f-df22-fe68ed1dc8d2"
      },
      "execution_count": null,
      "outputs": [
        {
          "output_type": "stream",
          "name": "stdout",
          "text": [
            "   0    ...  977\n",
            "0    0  ...    2\n",
            "\n",
            "[1 rows x 978 columns]\n",
            "   0    ...  977\n",
            "0    0  ...    2\n",
            "\n",
            "[1 rows x 978 columns]\n",
            "score: 0.7249488752556237\n"
          ]
        }
      ]
    }
  ]
}